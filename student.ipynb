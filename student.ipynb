## Final Project Submission

Please fill out:
* Student name: Florence Achola
* Student pace: full time Hybrid
* Instructor name: Nikita Njoroge

# 1.BUSINESS UNDERSTANDING

## 1.1.Business Problem
Microsoft sees all the big companies creating original video content and they want to get in on the fun. They have decided to create a new movie studio, but they don’t know anything about creating movies.I am charged with exploring what types of films are currently doing the best at the box office. i will then translate those findings into actionable insights that the head of Microsoft's new movie studio will use to help decide what type of films to create.
## 1.2. Success Metric

This project will be considered a success if :

      1.The best selling and most produced films are identified
      
      2.The market gap is clearly identified
      
      3.Possible challenges likely to be encountered,e.g competitors are outlined
# 2.DATA UNDERSTANDING

## 2.1.Importing relevant libraries
# Your code here - remember to use markdown cells for comments as well!

#importing the relevant files thatt will be needed in this project.
import json
import pandas as pd
import matplotlib.pyplot as plt
import seaborn as sns
%matplotlib inline
import sqlite3
## 2.2.Reading the datasets
Here we look at the datasets and decide on the most relevant to our analysis
Movies = pd.read_csv('tmdb.movies.csv') #Reading the movies file for preview
Movies
#Importing the movies budget data frame using csv
Budget = pd.read_csv('bom.movie_gross.csv')

#calling the first 10 columns of the data frame
y = Budget.head(10)
y
#connecting to the IM data base through the sql command
conn = sqlite3.connect('im.db')
conn  
#calling the specific movie_basics table from the data base
df=pd.read_sql("""SELECT *
               FROM movie_basics;
               """,conn)
df
#  2.3 Exploring the datasets

We are describing these data frames to understand on which sets we can combine to work on
### 2.3.1 Movies dataset
#Dropping the unnamed column as it displays indices which already exist by default

Movies = Movies.drop(['Unnamed: 0'],axis = 1)
Movies
#exploring column information on the dataframe

Movies.info()
#Viewing the measures of the Movies dataset

Movies.describe().T
### 2.3.2 Budget dataset
#We call the general view of the data frame
Budget
#We seek the general information of this dataset
Budget.info()
### 2.3.2.1 Tidying

we are tidying the budget data set as we notice null values and odd data types that could affect our analysis
#Checking the number of null values per column
Budget.isna().sum()
#We drop all the null value columns in our data frame as the number is insignificant to our analysis

Budget = Budget.dropna()
#Checking the state of out dataset to see if its tidy

Budget.isna().sum()
#Describing the clean data set
Budget.describe().T
# 3. DATA PREPARATION

After having the relevant information about the Data sets,i have decided to use two of them by merging.
They are the movies dataset and the Budget dataset as the contain all relevant questions
## 3.1 Selecting and Merging

We merge the two dataset that have been decided on
#The merge() function is used and the resultant dataset is larger and more relevant

data_set = Movies.merge(Budget ,how = 'inner',on = 'title')
data_set.head()
#We check on the general outlook of our data 
data_set.tail()
## 3.2 Data cleaning
### 3.2.1 Uniformity
# General information of the dataset
data_set.info()
### 3.2.2 Completeness
#Checking for null values,if all ==0,out set is complete.
data_set.isna().sum()
### 3.2.3 Consistency
#We use the duplicated method to check the consistency of our data
data_set.duplicated().sum()
#We drop the duplicated columns
data_set = data_set.drop_duplicates()

#We confirm that we have dropped all duplicated rows and the result should be zero
data_set.duplicated().sum()
### 3.2.4 Validity
#We drop irrelevant columns
data_set = data_set.drop('genre_ids', axis = 1)
data_set = data_set.drop('original_title', axis = 1)
data_set
# 4. DATA ANALYSIS

Here we make usefullness of ur cleaned data set through visual insights and other descriptive sttistics
#Viewing the dataset overal information
data_set.info()
#We are getting the count of the movie languages most produced by the studios
x = data_set['original_language'].unique()
x = data_set['original_language'].value_counts()
x
#### Having realized that english movies are the most produced,we move to filter our data to explore more about the english language movies with an average vote above 7.0

df = data_set[(data_set['vote_average'] >7.0) & (data_set['original_language'] == 'en')]
df
#### In the cell below, we will determine the the possible top competitors if we are to remain relevant in the business and make profits,for an actionable plan
#Here we check using the  value counts method,top ten studios productionwise
top_10_studios = list(df['studio'].value_counts().index[0:10])
top_10_studios
#We plot a boxplot to show the distribution of our production studios
sns.boxplot(x = df['studio'].value_counts())

#### Here  above, the boxplot outlines values as outliers but it is simply a visualization of how dominant a few studios are in the market.This could indicate lack of a worthy competitor hence a market gap
#We want to use a bar graph to check on the general production of englisg movies without considering other factors like the 
#popularity of the produced movies

Studios_figure, ax = plt.subplots(figsize=(10, 6))
ax.bar(top_10_studios, data_set['original_language'].value_counts()[0:10],  color = 'green')

ax.set_title('GENERAL PRODUCTION')
ax.set_ylabel('original_language')
ax.set_xlabel('studio')
plt.show()
#Histogram showing the movie production rate between 2010 and 2018
ax = data_set['year'].plot.hist(color='red', alpha=0.5)

ax.set_title('Yearly movies distribution')

ax.set_ylabel('Frequency/Count')
ax.set_xlabel('years')

plt.axvline(x = df['year'].mean(), color = 'black', label = 'average popularity');
#We pick a sample random data from the larger data frame to have a general outlook
df1 = df.sample(n = 10)
df1

#We sort the data in ascending order using the popularity column
df1 = df1.sort_values(by = 'popularity')
df1
#We plot a bar graph to see on which studios we could benchmark in
plt.data = df1
x = df1['studio']
y = df1['popularity']

plt.figure(figsize = (20,6))

plt.bar(x, y, color ='orange',
        width = 0.4)
 
plt.xlabel("studios")
plt.ylabel("popularity")
plt.title("Overal studio popularity")
plt.show()
#A relation plot between the foreign gross and the domestic gross
sns.relplot(x = 'domestic_gross' ,y = 'foreign_gross', data = df1 ,)
#scatteplot relating the foreign gross and the years progressively
sns.scatterplot(y='foreign_gross', x='year' ,
                 data=df1, 
                 palette="colorblind",
                 hue='year')
# 5. CONCLUSIONS

1.English movies have the highest ratings and popularity based on our datasets and visualizations

2.Movies production has declined over the years whereas potential consumers increase due to worldwide population increase possibly due to monopolistic competition hence some dtudios end up downscaling

3.B.V studio offers the greatest competition based on production of the most popular english movies

4.There is no correlation between what is earned at home and internationally and also intwenational income and the progressive years
# 6. RECOMMENDATIONS

1.That there is a market gap that needs to be filled on the production and microsoft studios could utilize that opportunity by massive venture as production has dropped over time.

2.The best benchmark studio is B.V studios as it is the greatest and the best based on the current market gap.

3.The gross average income of every studio depends on its efforts to produce popular movies with an average vote count of above 7.0 and no other factors based on our scatter plots hence the microsoft studio will have no option but to give the best for optimum income 
